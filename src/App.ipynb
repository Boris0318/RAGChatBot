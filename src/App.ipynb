{
 "cells": [
  {
   "cell_type": "code",
   "execution_count": null,
   "id": "c4dd7231-811c-4079-b41c-08c97989b899",
   "metadata": {},
   "outputs": [],
   "source": [
    "import streamlit as st\n",
    "from rag_model import get_rag_response\n",
    "\n",
    "# Title of the app\n",
    "st.title(\"RAG Model Chatbot\")\n",
    "\n",
    "# Add a header\n",
    "st.header(\"Ask me anything!\")\n",
    "\n",
    "# Text input for user prompt\n",
    "user_prompt = st.text_input(\"Enter your question:\")\n",
    "\n",
    "# Text area for user to enter URLs (one per line)\n",
    "st.write(\"Enter one or more URLs (one per line):\")\n",
    "url_input = st.text_area(\"URLs\", height=100)\n",
    "\n",
    "# Button to submit the prompt\n",
    "if st.button(\"Submit\"):\n",
    "    if user_prompt and url_input:\n",
    "        # Split the URLs by newlines and strip any extra whitespace\n",
    "        urls = [url.strip() for url in url_input.split(\"\\n\") if url.strip()]\n",
    "\n",
    "        # Create attachments from the user-provided URLs\n",
    "        attachments = [\n",
    "            {\n",
    "                \"content\": f\"https://raw.githubusercontent.com/pytorch/torchtune/main/docs/source/tutorials/{url}\",\n",
    "                \"mime_type\": \"text/plain\",\n",
    "            }\n",
    "            for url in urls\n",
    "        ]\n",
    "\n",
    "        # Define the user prompts with the dynamic attachments\n",
    "        user_prompts = [\n",
    "            (\n",
    "                \"I am attaching documentation from the provided URLs. Help me answer questions I will ask next.\",\n",
    "                attachments,\n",
    "            ),\n",
    "            (\n",
    "                user_prompt,  # Use the user's question here\n",
    "                None,\n",
    "            ),\n",
    "        ]\n",
    "\n",
    "        # Get the RAG response\n",
    "        response = get_rag_response(user_prompts)\n",
    "\n",
    "        # Display the response\n",
    "        st.write(\"### Response:\")\n",
    "        for log in response:\n",
    "            st.write(log[\"content\"])\n",
    "    else:\n",
    "        st.warning(\"Please enter a question and at least one URL.\")"
   ]
  }
 ],
 "metadata": {
  "kernelspec": {
   "display_name": "Python 3 (ipykernel)",
   "language": "python",
   "name": "python3"
  },
  "language_info": {
   "codemirror_mode": {
    "name": "ipython",
    "version": 3
   },
   "file_extension": ".py",
   "mimetype": "text/x-python",
   "name": "python",
   "nbconvert_exporter": "python",
   "pygments_lexer": "ipython3",
   "version": "3.12.7"
  }
 },
 "nbformat": 4,
 "nbformat_minor": 5
}
